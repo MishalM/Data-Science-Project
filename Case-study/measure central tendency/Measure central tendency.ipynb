{
 "cells": [
  {
   "cell_type": "markdown",
   "id": "conservative-jewel",
   "metadata": {},
   "source": [
    "## Import libraries"
   ]
  },
  {
   "cell_type": "code",
   "execution_count": 1,
   "id": "bibliographic-nutrition",
   "metadata": {},
   "outputs": [],
   "source": [
    "import pandas as pd\n",
    "import numpy as np"
   ]
  },
  {
   "cell_type": "markdown",
   "id": "particular-television",
   "metadata": {},
   "source": [
    "## Import data"
   ]
  },
  {
   "cell_type": "code",
   "execution_count": 2,
   "id": "married-ecology",
   "metadata": {},
   "outputs": [
    {
     "data": {
      "text/html": [
       "<div>\n",
       "<style scoped>\n",
       "    .dataframe tbody tr th:only-of-type {\n",
       "        vertical-align: middle;\n",
       "    }\n",
       "\n",
       "    .dataframe tbody tr th {\n",
       "        vertical-align: top;\n",
       "    }\n",
       "\n",
       "    .dataframe thead th {\n",
       "        text-align: right;\n",
       "    }\n",
       "</style>\n",
       "<table border=\"1\" class=\"dataframe\">\n",
       "  <thead>\n",
       "    <tr style=\"text-align: right;\">\n",
       "      <th></th>\n",
       "      <th>gender</th>\n",
       "      <th>race/ethnicity</th>\n",
       "      <th>parental level of education</th>\n",
       "      <th>lunch</th>\n",
       "      <th>test preparation course</th>\n",
       "      <th>math score</th>\n",
       "      <th>reading score</th>\n",
       "      <th>writing score</th>\n",
       "    </tr>\n",
       "  </thead>\n",
       "  <tbody>\n",
       "    <tr>\n",
       "      <th>0</th>\n",
       "      <td>female</td>\n",
       "      <td>group C</td>\n",
       "      <td>some high school</td>\n",
       "      <td>free/reduced</td>\n",
       "      <td>none</td>\n",
       "      <td>0</td>\n",
       "      <td>17</td>\n",
       "      <td>10</td>\n",
       "    </tr>\n",
       "    <tr>\n",
       "      <th>1</th>\n",
       "      <td>female</td>\n",
       "      <td>group B</td>\n",
       "      <td>high school</td>\n",
       "      <td>free/reduced</td>\n",
       "      <td>none</td>\n",
       "      <td>8</td>\n",
       "      <td>24</td>\n",
       "      <td>23</td>\n",
       "    </tr>\n",
       "    <tr>\n",
       "      <th>2</th>\n",
       "      <td>female</td>\n",
       "      <td>group B</td>\n",
       "      <td>some high school</td>\n",
       "      <td>free/reduced</td>\n",
       "      <td>none</td>\n",
       "      <td>18</td>\n",
       "      <td>32</td>\n",
       "      <td>28</td>\n",
       "    </tr>\n",
       "    <tr>\n",
       "      <th>3</th>\n",
       "      <td>female</td>\n",
       "      <td>group B</td>\n",
       "      <td>some college</td>\n",
       "      <td>standard</td>\n",
       "      <td>none</td>\n",
       "      <td>11</td>\n",
       "      <td>38</td>\n",
       "      <td>32</td>\n",
       "    </tr>\n",
       "    <tr>\n",
       "      <th>4</th>\n",
       "      <td>female</td>\n",
       "      <td>group C</td>\n",
       "      <td>some college</td>\n",
       "      <td>free/reduced</td>\n",
       "      <td>none</td>\n",
       "      <td>22</td>\n",
       "      <td>39</td>\n",
       "      <td>33</td>\n",
       "    </tr>\n",
       "  </tbody>\n",
       "</table>\n",
       "</div>"
      ],
      "text/plain": [
       "   gender race/ethnicity parental level of education         lunch  \\\n",
       "0  female        group C            some high school  free/reduced   \n",
       "1  female        group B                 high school  free/reduced   \n",
       "2  female        group B            some high school  free/reduced   \n",
       "3  female        group B                some college      standard   \n",
       "4  female        group C                some college  free/reduced   \n",
       "\n",
       "  test preparation course  math score  reading score  writing score  \n",
       "0                    none           0             17             10  \n",
       "1                    none           8             24             23  \n",
       "2                    none          18             32             28  \n",
       "3                    none          11             38             32  \n",
       "4                    none          22             39             33  "
      ]
     },
     "execution_count": 2,
     "metadata": {},
     "output_type": "execute_result"
    }
   ],
   "source": [
    "data = pd.read_csv('StudentsPerformance.csv')\n",
    "data.head()"
   ]
  },
  {
   "cell_type": "markdown",
   "id": "statistical-event",
   "metadata": {},
   "source": [
    "## No of male and female students"
   ]
  },
  {
   "cell_type": "code",
   "execution_count": 3,
   "id": "specific-madness",
   "metadata": {},
   "outputs": [
    {
     "name": "stdout",
     "output_type": "stream",
     "text": [
      "female    518\n",
      "male      482\n",
      "Name: gender, dtype: int64\n"
     ]
    }
   ],
   "source": [
    "data_gender = data['gender'].value_counts()\n",
    "print(data_gender)"
   ]
  },
  {
   "cell_type": "markdown",
   "id": "fewer-picking",
   "metadata": {},
   "source": [
    "## Student's parental level of education"
   ]
  },
  {
   "cell_type": "code",
   "execution_count": 4,
   "id": "subject-behavior",
   "metadata": {},
   "outputs": [
    {
     "name": "stdout",
     "output_type": "stream",
     "text": [
      "some college          226\n",
      "associate's degree    222\n",
      "high school           196\n",
      "some high school      179\n",
      "bachelor's degree     118\n",
      "master's degree        59\n",
      "Name: parental level of education, dtype: int64\n"
     ]
    }
   ],
   "source": [
    "data_parental = data['parental level of education'].value_counts()\n",
    "print(data_parental)"
   ]
  },
  {
   "cell_type": "code",
   "execution_count": 5,
   "id": "outside-rouge",
   "metadata": {},
   "outputs": [
    {
     "data": {
      "text/html": [
       "<div>\n",
       "<style scoped>\n",
       "    .dataframe tbody tr th:only-of-type {\n",
       "        vertical-align: middle;\n",
       "    }\n",
       "\n",
       "    .dataframe tbody tr th {\n",
       "        vertical-align: top;\n",
       "    }\n",
       "\n",
       "    .dataframe thead th {\n",
       "        text-align: right;\n",
       "    }\n",
       "</style>\n",
       "<table border=\"1\" class=\"dataframe\">\n",
       "  <thead>\n",
       "    <tr style=\"text-align: right;\">\n",
       "      <th></th>\n",
       "      <th>gender</th>\n",
       "      <th>race/ethnicity</th>\n",
       "      <th>parental level of education</th>\n",
       "      <th>lunch</th>\n",
       "      <th>test preparation course</th>\n",
       "      <th>math score</th>\n",
       "      <th>reading score</th>\n",
       "      <th>writing score</th>\n",
       "      <th>Total</th>\n",
       "      <th>Avg</th>\n",
       "    </tr>\n",
       "  </thead>\n",
       "  <tbody>\n",
       "    <tr>\n",
       "      <th>0</th>\n",
       "      <td>female</td>\n",
       "      <td>group C</td>\n",
       "      <td>some high school</td>\n",
       "      <td>free/reduced</td>\n",
       "      <td>none</td>\n",
       "      <td>0</td>\n",
       "      <td>17</td>\n",
       "      <td>10</td>\n",
       "      <td>27</td>\n",
       "      <td>9.00</td>\n",
       "    </tr>\n",
       "    <tr>\n",
       "      <th>1</th>\n",
       "      <td>female</td>\n",
       "      <td>group B</td>\n",
       "      <td>high school</td>\n",
       "      <td>free/reduced</td>\n",
       "      <td>none</td>\n",
       "      <td>8</td>\n",
       "      <td>24</td>\n",
       "      <td>23</td>\n",
       "      <td>55</td>\n",
       "      <td>18.33</td>\n",
       "    </tr>\n",
       "    <tr>\n",
       "      <th>2</th>\n",
       "      <td>female</td>\n",
       "      <td>group B</td>\n",
       "      <td>some high school</td>\n",
       "      <td>free/reduced</td>\n",
       "      <td>none</td>\n",
       "      <td>18</td>\n",
       "      <td>32</td>\n",
       "      <td>28</td>\n",
       "      <td>78</td>\n",
       "      <td>26.00</td>\n",
       "    </tr>\n",
       "    <tr>\n",
       "      <th>3</th>\n",
       "      <td>female</td>\n",
       "      <td>group B</td>\n",
       "      <td>some college</td>\n",
       "      <td>standard</td>\n",
       "      <td>none</td>\n",
       "      <td>11</td>\n",
       "      <td>38</td>\n",
       "      <td>32</td>\n",
       "      <td>81</td>\n",
       "      <td>27.00</td>\n",
       "    </tr>\n",
       "    <tr>\n",
       "      <th>4</th>\n",
       "      <td>female</td>\n",
       "      <td>group C</td>\n",
       "      <td>some college</td>\n",
       "      <td>free/reduced</td>\n",
       "      <td>none</td>\n",
       "      <td>22</td>\n",
       "      <td>39</td>\n",
       "      <td>33</td>\n",
       "      <td>94</td>\n",
       "      <td>31.33</td>\n",
       "    </tr>\n",
       "  </tbody>\n",
       "</table>\n",
       "</div>"
      ],
      "text/plain": [
       "   gender race/ethnicity parental level of education         lunch  \\\n",
       "0  female        group C            some high school  free/reduced   \n",
       "1  female        group B                 high school  free/reduced   \n",
       "2  female        group B            some high school  free/reduced   \n",
       "3  female        group B                some college      standard   \n",
       "4  female        group C                some college  free/reduced   \n",
       "\n",
       "  test preparation course  math score  reading score  writing score  Total  \\\n",
       "0                    none           0             17             10     27   \n",
       "1                    none           8             24             23     55   \n",
       "2                    none          18             32             28     78   \n",
       "3                    none          11             38             32     81   \n",
       "4                    none          22             39             33     94   \n",
       "\n",
       "     Avg  \n",
       "0   9.00  \n",
       "1  18.33  \n",
       "2  26.00  \n",
       "3  27.00  \n",
       "4  31.33  "
      ]
     },
     "execution_count": 5,
     "metadata": {},
     "output_type": "execute_result"
    }
   ],
   "source": [
    "data['Total'] = data['math score'] + data['reading score'] + data['writing score']\n",
    "data['Avg'] = round((data['Total'] / 3),2)\n",
    "data.head()"
   ]
  },
  {
   "cell_type": "markdown",
   "id": "neutral-reflection",
   "metadata": {},
   "source": [
    "## Most score based on gender"
   ]
  },
  {
   "cell_type": "code",
   "execution_count": 6,
   "id": "important-identification",
   "metadata": {},
   "outputs": [
    {
     "name": "stdout",
     "output_type": "stream",
     "text": [
      "The mean of female score in total is 208.43 \n",
      "While mean of male score in total is 197.81\n"
     ]
    }
   ],
   "source": [
    "female_avg = data[data['gender'] == 'female'].Total.mean()\n",
    "male_avg = data[data['gender'] == 'male'].Total.mean()\n",
    "\n",
    "print(f'The mean of female score in total is {round(female_avg,2)} \\nWhile mean of male score in total is {round(male_avg,2)}')"
   ]
  },
  {
   "cell_type": "markdown",
   "id": "laden-prevention",
   "metadata": {},
   "source": [
    "## Most score based on test prepration course"
   ]
  },
  {
   "cell_type": "code",
   "execution_count": 7,
   "id": "phantom-october",
   "metadata": {},
   "outputs": [
    {
     "name": "stdout",
     "output_type": "stream",
     "text": [
      "The mean score of students who completed the course is 218.83\n",
      "The mean score of students who did not completed the course is 194.67\n"
     ]
    }
   ],
   "source": [
    "complete_avg = data[data['test preparation course'] == 'completed'].Total.mean()\n",
    "none_avg = data[data['test preparation course'] == 'none'].Total.mean()\n",
    "\n",
    "print(f'The mean score of students who completed the course is {round(complete_avg,2)}')\n",
    "print(f'The mean score of students who did not completed the course is {round(none_avg,2)}')"
   ]
  },
  {
   "cell_type": "markdown",
   "id": "tired-sierra",
   "metadata": {},
   "source": [
    "## Score variation based on gender"
   ]
  },
  {
   "cell_type": "code",
   "execution_count": 8,
   "id": "innocent-dryer",
   "metadata": {},
   "outputs": [
    {
     "name": "stdout",
     "output_type": "stream",
     "text": [
      "The discribriton for female students are\n",
      "Minimum  score in total is 27.0 and maximum is 300.0\n",
      "Variance of total score is 1945.76 and standerd deviation is 44.11\n",
      "\n",
      "\n",
      "The discribriton for male students are\n",
      "Minimum  score in total is 69.0 and maximum is 300.0\n",
      "Variance of total score is 1945.76 and standerd deviation is 41.6\n"
     ]
    }
   ],
   "source": [
    "female_des = data[data['gender'] == 'female']['Total'].describe()\n",
    "female_var = data[data['gender'] == 'female']['Total'].var()\n",
    "male_des = data[data['gender'] == 'male']['Total'].describe()\n",
    "male_var = data[data['gender'] == 'male']['Total'].var()\n",
    "\n",
    "print(\"The discribriton for female students are\")\n",
    "print(f\"Minimum  score in total is {round(female_des['min'],2)} and maximum is {round(female_des['max'],2)}\")\n",
    "print(f\"Variance of total score is {round(female_var,2)} and standerd deviation is {round(female_des['std'],2)}\")\n",
    "print('\\n')\n",
    "print(\"The discribriton for male students are\")\n",
    "print(f\"Minimum  score in total is {round(male_des['min'],2)} and maximum is {round(male_des['max'],2)}\")\n",
    "print(f\"Variance of total score is {round(female_var,2)} and standerd deviation is {round(male_des['std'],2)}\")"
   ]
  },
  {
   "cell_type": "markdown",
   "id": "phantom-soviet",
   "metadata": {},
   "source": [
    "## Score variation based on gender"
   ]
  },
  {
   "cell_type": "code",
   "execution_count": 9,
   "id": "generic-rhythm",
   "metadata": {},
   "outputs": [
    {
     "name": "stdout",
     "output_type": "stream",
     "text": [
      "The description for course completed students are\n",
      "Minimum  score in total is 103.0 and maximum is 300.0\n",
      "variance of total score is 1507.75 and Standerd deviation is 38.83\n",
      "\n",
      "\n",
      "The description for none course completed students are\n",
      "Minimum  score in total is 27.0 and maximum is 300.0\n",
      "Variance of total score is 1863.13 and Standerd deviation is 43.16\n"
     ]
    }
   ],
   "source": [
    "course_des = data[data['test preparation course'] == 'completed']['Total'].describe()\n",
    "course_var = data[data['test preparation course'] == 'completed']['Total'].var()\n",
    "none_des = data[data['test preparation course'] == 'none']['Total'].describe()\n",
    "none_var = data[data['test preparation course'] == 'none']['Total'].var()\n",
    "\n",
    "print(\"The description for course completed students are\")\n",
    "print(f\"Minimum  score in total is {round(course_des['min'],2)} and maximum is {round(course_des['max'],2)}\")\n",
    "print(f\"variance of total score is {round(course_var,2)} and Standerd deviation is {round(course_des['std'],2)}\")\n",
    "print('\\n')\n",
    "print(\"The description for none course completed students are\")\n",
    "print(f\"Minimum  score in total is {round(none_des['min'],2)} and maximum is {round(none_des['max'],2)}\")\n",
    "print(f\"Variance of total score is {round(none_var,2)} and Standerd deviation is {round(none_des['std'],2)}\")"
   ]
  },
  {
   "cell_type": "markdown",
   "id": "valued-lloyd",
   "metadata": {},
   "source": [
    "## Top 25 percentage students based on math score"
   ]
  },
  {
   "cell_type": "code",
   "execution_count": 10,
   "id": "inappropriate-yugoslavia",
   "metadata": {},
   "outputs": [
    {
     "name": "stdout",
     "output_type": "stream",
     "text": [
      "List of index of top 25 percentage students based on math score are \n",
      "[999, 996, 515, 517, 516, 997, 998, 995, 513, 514, 994, 993, 512, 992, 991, 989, 510, 511, 990, 509, 508, 988, 507, 987, 505, 506, 982, 983, 985, 986, 984, 504, 503, 980, 981, 978, 979, 499, 502, 501, 500, 973, 497, 498, 975, 977, 974, 972, 976, 971, 969, 967, 968, 495, 970, 965, 496, 966, 964, 494, 959, 960, 961, 962, 963, 488, 493, 492, 491, 490, 956, 489, 955, 951, 950, 953, 954, 958, 957, 952, 486, 487, 485, 943, 948, 947, 946, 945, 944, 942, 941, 940, 939, 483, 484, 949, 933, 481, 934, 935, 936, 937, 938, 482, 478, 479, 480, 477, 476, 475, 474, 473, 932, 931, 930, 929, 928, 927, 926, 471, 472, 925, 923, 922, 921, 920, 919, 924, 918, 468, 470, 469, 914, 915, 916, 917, 467, 912, 905, 906, 907, 908, 909, 910, 911, 461, 913, 464, 463, 462, 460, 459, 458, 465, 466, 457, 453, 452, 456, 455, 454, 892, 900, 899, 898, 897, 896, 895, 894, 893, 450, 891, 902, 904, 903, 451, 901, 885, 447, 880, 881, 882, 883, 884, 886, 887, 888, 890, 449, 448, 889, 446, 444, 445, 436, 872, 873, 874, 875, 876, 877, 879, 437, 438, 439, 440, 441, 442, 443, 870, 871, 878, 869, 867, 866, 868, 858, 432, 433, 434, 435, 857, 859, 431, 860, 861, 862, 863, 864, 865, 430, 419, 420, 425, 429, 428, 427, 426, 417, 424, 423, 418, 422, 416, 415, 856, 855, 854, 853, 852]\n"
     ]
    }
   ],
   "source": [
    "n_25 = int((len(data) * 25) / 100)\n",
    "\n",
    "top_25 = data.sort_values(['math score'], ascending= False).head(n_25)\n",
    "index_top = top_25.index.values.tolist()\n",
    "\n",
    "print(f'List of index of top 25 percentage students based on math score are \\n{index_top}')"
   ]
  }
 ],
 "metadata": {
  "kernelspec": {
   "display_name": "Python 3",
   "language": "python",
   "name": "python3"
  },
  "language_info": {
   "codemirror_mode": {
    "name": "ipython",
    "version": 3
   },
   "file_extension": ".py",
   "mimetype": "text/x-python",
   "name": "python",
   "nbconvert_exporter": "python",
   "pygments_lexer": "ipython3",
   "version": "3.8.10"
  }
 },
 "nbformat": 4,
 "nbformat_minor": 5
}
