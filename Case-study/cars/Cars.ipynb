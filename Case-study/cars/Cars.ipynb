{
 "cells": [
  {
   "cell_type": "markdown",
   "id": "appropriate-advertising",
   "metadata": {},
   "source": [
    "## Import librarys"
   ]
  },
  {
   "cell_type": "code",
   "execution_count": 1,
   "id": "reliable-court",
   "metadata": {},
   "outputs": [],
   "source": [
    "import pandas as pd\n",
    "import matplotlib.pyplot as plt\n",
    "\n",
    "import warnings\n",
    "warnings.filterwarnings('ignore')"
   ]
  },
  {
   "cell_type": "markdown",
   "id": "hidden-humor",
   "metadata": {},
   "source": [
    "## Read Dataset"
   ]
  },
  {
   "cell_type": "code",
   "execution_count": 2,
   "id": "encouraging-glenn",
   "metadata": {},
   "outputs": [
    {
     "data": {
      "text/html": [
       "<div>\n",
       "<style scoped>\n",
       "    .dataframe tbody tr th:only-of-type {\n",
       "        vertical-align: middle;\n",
       "    }\n",
       "\n",
       "    .dataframe tbody tr th {\n",
       "        vertical-align: top;\n",
       "    }\n",
       "\n",
       "    .dataframe thead th {\n",
       "        text-align: right;\n",
       "    }\n",
       "</style>\n",
       "<table border=\"1\" class=\"dataframe\">\n",
       "  <thead>\n",
       "    <tr style=\"text-align: right;\">\n",
       "      <th></th>\n",
       "      <th>Make</th>\n",
       "      <th>Model</th>\n",
       "      <th>Nickname</th>\n",
       "      <th>Car Gender</th>\n",
       "      <th>Buyer Gender</th>\n",
       "      <th>Buyer Age</th>\n",
       "      <th>Buzzword</th>\n",
       "      <th>Country</th>\n",
       "      <th>City</th>\n",
       "      <th>Dealer Latitude</th>\n",
       "      <th>Dealer Longitude</th>\n",
       "      <th>Color</th>\n",
       "      <th>New Car</th>\n",
       "      <th>Purchase Date</th>\n",
       "      <th>Sale Price</th>\n",
       "      <th>Discount</th>\n",
       "      <th>Resell Price</th>\n",
       "      <th>5-yr Depreciation</th>\n",
       "      <th>Top Speed</th>\n",
       "      <th>0-60 Time</th>\n",
       "    </tr>\n",
       "  </thead>\n",
       "  <tbody>\n",
       "    <tr>\n",
       "      <th>0</th>\n",
       "      <td>Suzuki</td>\n",
       "      <td>Vitara</td>\n",
       "      <td>Philippine</td>\n",
       "      <td>Female</td>\n",
       "      <td>Female</td>\n",
       "      <td>51</td>\n",
       "      <td>User-friendly</td>\n",
       "      <td>Belgium</td>\n",
       "      <td>Antwerpen</td>\n",
       "      <td>51.247239</td>\n",
       "      <td>4.440346</td>\n",
       "      <td>Yellow</td>\n",
       "      <td>False</td>\n",
       "      <td>19/07/2009</td>\n",
       "      <td>54806.14</td>\n",
       "      <td>0.2467</td>\n",
       "      <td>33858.32</td>\n",
       "      <td>0.13</td>\n",
       "      <td>200.9</td>\n",
       "      <td>11.5</td>\n",
       "    </tr>\n",
       "    <tr>\n",
       "      <th>1</th>\n",
       "      <td>Honda</td>\n",
       "      <td>S2000</td>\n",
       "      <td>Henrik</td>\n",
       "      <td>Male</td>\n",
       "      <td>Male</td>\n",
       "      <td>30</td>\n",
       "      <td>analyzing</td>\n",
       "      <td>China</td>\n",
       "      <td>Jinhu</td>\n",
       "      <td>33.025433</td>\n",
       "      <td>119.020584</td>\n",
       "      <td>Crimson</td>\n",
       "      <td>False</td>\n",
       "      <td>26/10/2015</td>\n",
       "      <td>51826.30</td>\n",
       "      <td>0.3147</td>\n",
       "      <td>2989.28</td>\n",
       "      <td>0.02</td>\n",
       "      <td>158.5</td>\n",
       "      <td>8.8</td>\n",
       "    </tr>\n",
       "    <tr>\n",
       "      <th>2</th>\n",
       "      <td>BMW</td>\n",
       "      <td>Z4</td>\n",
       "      <td>Lebbie</td>\n",
       "      <td>Male</td>\n",
       "      <td>Female</td>\n",
       "      <td>54</td>\n",
       "      <td>software</td>\n",
       "      <td>China</td>\n",
       "      <td>Gemo</td>\n",
       "      <td>30.916207</td>\n",
       "      <td>121.677640</td>\n",
       "      <td>Khaki</td>\n",
       "      <td>False</td>\n",
       "      <td>28/03/2010</td>\n",
       "      <td>82929.14</td>\n",
       "      <td>0.5414</td>\n",
       "      <td>35049.16</td>\n",
       "      <td>0.24</td>\n",
       "      <td>149.5</td>\n",
       "      <td>14.4</td>\n",
       "    </tr>\n",
       "    <tr>\n",
       "      <th>3</th>\n",
       "      <td>Toyota</td>\n",
       "      <td>Tacoma</td>\n",
       "      <td>Jefferey</td>\n",
       "      <td>Female</td>\n",
       "      <td>Male</td>\n",
       "      <td>68</td>\n",
       "      <td>monitoring</td>\n",
       "      <td>Portugal</td>\n",
       "      <td>Queluz de Baixo</td>\n",
       "      <td>38.745168</td>\n",
       "      <td>-9.267087</td>\n",
       "      <td>Puce</td>\n",
       "      <td>False</td>\n",
       "      <td>07/05/2008</td>\n",
       "      <td>56928.66</td>\n",
       "      <td>0.0850</td>\n",
       "      <td>8236.15</td>\n",
       "      <td>0.20</td>\n",
       "      <td>153.3</td>\n",
       "      <td>11.5</td>\n",
       "    </tr>\n",
       "    <tr>\n",
       "      <th>4</th>\n",
       "      <td>Ford</td>\n",
       "      <td>Festiva</td>\n",
       "      <td>Glendon</td>\n",
       "      <td>Female</td>\n",
       "      <td>Male</td>\n",
       "      <td>70</td>\n",
       "      <td>Sharable</td>\n",
       "      <td>Latvia</td>\n",
       "      <td>Jaunpils</td>\n",
       "      <td>56.729980</td>\n",
       "      <td>23.016588</td>\n",
       "      <td>Yellow</td>\n",
       "      <td>False</td>\n",
       "      <td>01/06/2008</td>\n",
       "      <td>77201.26</td>\n",
       "      <td>0.1642</td>\n",
       "      <td>32765.76</td>\n",
       "      <td>0.18</td>\n",
       "      <td>122.0</td>\n",
       "      <td>14.9</td>\n",
       "    </tr>\n",
       "  </tbody>\n",
       "</table>\n",
       "</div>"
      ],
      "text/plain": [
       "     Make    Model    Nickname Car Gender Buyer Gender  Buyer Age  \\\n",
       "0  Suzuki   Vitara  Philippine     Female       Female         51   \n",
       "1   Honda    S2000      Henrik       Male         Male         30   \n",
       "2     BMW       Z4      Lebbie       Male       Female         54   \n",
       "3  Toyota   Tacoma    Jefferey     Female         Male         68   \n",
       "4    Ford  Festiva     Glendon     Female         Male         70   \n",
       "\n",
       "        Buzzword   Country             City  Dealer Latitude  \\\n",
       "0  User-friendly   Belgium        Antwerpen        51.247239   \n",
       "1      analyzing     China            Jinhu        33.025433   \n",
       "2       software     China             Gemo        30.916207   \n",
       "3     monitoring  Portugal  Queluz de Baixo        38.745168   \n",
       "4       Sharable    Latvia         Jaunpils        56.729980   \n",
       "\n",
       "   Dealer Longitude    Color  New Car Purchase Date  Sale Price  Discount  \\\n",
       "0          4.440346   Yellow    False    19/07/2009    54806.14    0.2467   \n",
       "1        119.020584  Crimson    False    26/10/2015    51826.30    0.3147   \n",
       "2        121.677640    Khaki    False    28/03/2010    82929.14    0.5414   \n",
       "3         -9.267087     Puce    False    07/05/2008    56928.66    0.0850   \n",
       "4         23.016588   Yellow    False    01/06/2008    77201.26    0.1642   \n",
       "\n",
       "   Resell Price  5-yr Depreciation  Top Speed  0-60 Time  \n",
       "0      33858.32               0.13      200.9       11.5  \n",
       "1       2989.28               0.02      158.5        8.8  \n",
       "2      35049.16               0.24      149.5       14.4  \n",
       "3       8236.15               0.20      153.3       11.5  \n",
       "4      32765.76               0.18      122.0       14.9  "
      ]
     },
     "execution_count": 2,
     "metadata": {},
     "output_type": "execute_result"
    }
   ],
   "source": [
    "data = pd.read_csv('cars_data.csv')\n",
    "data.head()"
   ]
  },
  {
   "cell_type": "markdown",
   "id": "defined-remains",
   "metadata": {},
   "source": [
    "## Check for empty sell"
   ]
  },
  {
   "cell_type": "code",
   "execution_count": 3,
   "id": "productive-settle",
   "metadata": {},
   "outputs": [
    {
     "name": "stdout",
     "output_type": "stream",
     "text": [
      "{'Make': [], 'Model': [], 'Nickname': [], 'Car Gender': [], 'Buyer Gender': [], 'Buyer Age': [], 'Buzzword': [], 'Country': [], 'City': [], 'Dealer Latitude': [], 'Dealer Longitude': [], 'Color': [], 'New Car': [], 'Purchase Date': [], 'Sale Price': [], 'Discount': [], 'Resell Price': [], '5-yr Depreciation': [], 'Top Speed': [], '0-60 Time': []}\n"
     ]
    }
   ],
   "source": [
    "empty_cell = {}\n",
    "\n",
    "for i in data:\n",
    "    empty_cell[i] = data[data[i].isnull()].index.tolist()\n",
    "print(empty_cell)"
   ]
  },
  {
   "cell_type": "markdown",
   "id": "skilled-feature",
   "metadata": {},
   "source": [
    "## Bar-graph of male vs female buyers"
   ]
  },
  {
   "cell_type": "code",
   "execution_count": 4,
   "id": "above-thomson",
   "metadata": {},
   "outputs": [
    {
     "name": "stdout",
     "output_type": "stream",
     "text": [
      "No of female buyers is 5052 and male buyers is 4948\n"
     ]
    },
    {
     "data": {
      "image/png": "[encoded data removed]",
      "text/plain": [
       "<Figure size 432x288 with 1 Axes>"
      ]
     },
     "metadata": {
      "needs_background": "light"
     },
     "output_type": "display_data"
    }
   ],
   "source": [
    "buyer_count = data['Buyer Gender'].value_counts()\n",
    "gender = ['Female','Male']\n",
    "purchase_count = [buyer_count[0],buyer_count[1]]\n",
    "\n",
    "print(f'No of female buyers is {buyer_count[0]} and male buyers is {buyer_count[1]}')\n",
    "plt.bar(gender, purchase_count)\n",
    "plt.xlabel(\"Buyer's Gender\")\n",
    "plt.ylabel(\"No of purchases\")\n",
    "plt.title(\"Male vs Female purchase graph\")\n",
    "plt.show()"
   ]
  },
  {
   "cell_type": "markdown",
   "id": "dominican-winter",
   "metadata": {},
   "source": [
    "## Top 5 cars based on sales price"
   ]
  },
  {
   "cell_type": "code",
   "execution_count": 5,
   "id": "political-missouri",
   "metadata": {},
   "outputs": [
    {
     "name": "stdout",
     "output_type": "stream",
     "text": [
      "The top 5 cars with highest sales are:\n",
      "Corvette with 3818677.7799999993\n",
      "Mustang with 3653689.5600000005\n",
      "Camaro with 2879639.790000001\n",
      "Taurus with 2705336.8400000003\n",
      "S-Class with 2683098.989999999\n"
     ]
    }
   ],
   "source": [
    "car_sale = data.groupby(['Model'])['Sale Price'].sum()\n",
    "car_sale = car_sale.to_dict()\n",
    "\n",
    "top_five = sorted(car_sale, key = car_sale.get, reverse = True)[:5]\n",
    "print('The top 5 cars with highest sales are:')\n",
    "for i in top_five:\n",
    "    print(f'{i} with {car_sale[i]}')"
   ]
  },
  {
   "cell_type": "markdown",
   "id": "developing-regression",
   "metadata": {},
   "source": [
    "## Least 5 cars based on resell price"
   ]
  },
  {
   "cell_type": "code",
   "execution_count": 6,
   "id": "moderate-grill",
   "metadata": {},
   "outputs": [
    {
     "name": "stdout",
     "output_type": "stream",
     "text": [
      "The least 5 cars with lowest resale value are:\n",
      "Navajo with 67229.49\n",
      "458 Italia with 42023.11\n",
      "RS 6 with 24599.38\n",
      "Range Rover Evoque with 28542.67\n",
      "Outlander Sport with 48138.21\n"
     ]
    }
   ],
   "source": [
    "car_resale = data.groupby(['Model'])['Resell Price'].sum()\n",
    "car_resale = car_resale.to_dict()\n",
    "low_five = sorted(car_resale, key = car_resale.get)[:5]\n",
    "print('The least 5 cars with lowest resale value are:')\n",
    "for i in low_five:\n",
    "    print(f'{i} with {car_sale[i]}')"
   ]
  }
 ],
 "metadata": {
  "kernelspec": {
   "display_name": "Python 3",
   "language": "python",
   "name": "python3"
  },
  "language_info": {
   "codemirror_mode": {
    "name": "ipython",
    "version": 3
   },
   "file_extension": ".py",
   "mimetype": "text/x-python",
   "name": "python",
   "nbconvert_exporter": "python",
   "pygments_lexer": "ipython3",
   "version": "3.8.10"
  }
 },
 "nbformat": 4,
 "nbformat_minor": 5
}
